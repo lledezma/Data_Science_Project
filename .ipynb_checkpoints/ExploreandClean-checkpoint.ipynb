{
 "cells": [
  {
   "cell_type": "code",
   "execution_count": 9,
   "metadata": {
    "collapsed": true
   },
   "outputs": [],
   "source": [
    "import matplotlib\n",
    "import numpy as np\n",
    "import matplotlib.pyplot as plt\n",
    "%matplotlib inline\n",
    "import pandas as pd"
   ]
  },
  {
   "cell_type": "code",
   "execution_count": 10,
   "metadata": {
    "collapsed": true
   },
   "outputs": [],
   "source": [
    "filename = '2017-02-23.Hotels.json'\n",
    "data = pd.read_json(filename)\n",
    "filename2 = '2017-02-23.Hotels.json'\n",
    "data2 = pd.read_json(filename2)"
   ]
  },
  {
   "cell_type": "code",
   "execution_count": 11,
   "metadata": {
    "collapsed": false
   },
   "outputs": [],
   "source": [
    "#Clean two data columns\n",
    "    #1.Hotelcity column\n",
    "    #2.Hoteladdress column"
   ]
  },
  {
   "cell_type": "code",
   "execution_count": 12,
   "metadata": {
    "collapsed": false
   },
   "outputs": [
    {
     "data": {
      "text/plain": [
       "0            , Las Vegas\n",
       "1            , Las Vegas\n",
       "2            , Las Vegas\n",
       "3            , Las Vegas\n",
       "4            , Las Vegas\n",
       "5            , Las Vegas\n",
       "6            , Las Vegas\n",
       "7            , Las Vegas\n",
       "8            , Las Vegas\n",
       "9            , Las Vegas\n",
       "10           , Las Vegas\n",
       "11           , Las Vegas\n",
       "12           , Las Vegas\n",
       "13           , Las Vegas\n",
       "14           , Las Vegas\n",
       "15           , Las Vegas\n",
       "16           , Las Vegas\n",
       "17           , Las Vegas\n",
       "18           , Las Vegas\n",
       "19           , Las Vegas\n",
       "20           , Las Vegas\n",
       "21           , Las Vegas\n",
       "22           , Las Vegas\n",
       "23           , Las Vegas\n",
       "24           , Las Vegas\n",
       "25           , Las Vegas\n",
       "26           , Las Vegas\n",
       "27           , Las Vegas\n",
       "28           , Las Vegas\n",
       "29           , Las Vegas\n",
       "             ...        \n",
       "223    , North Las Vegas\n",
       "224    , North Las Vegas\n",
       "225          , Las Vegas\n",
       "226    , North Las Vegas\n",
       "227          , Henderson\n",
       "228          , Las Vegas\n",
       "229          , Las Vegas\n",
       "230          , Las Vegas\n",
       "231          , Henderson\n",
       "232          , Las Vegas\n",
       "233          , Henderson\n",
       "234          , Las Vegas\n",
       "235          , Las Vegas\n",
       "236          , Las Vegas\n",
       "237    , North Las Vegas\n",
       "238          , Henderson\n",
       "239          , Henderson\n",
       "240          , Henderson\n",
       "241          , Las Vegas\n",
       "242          , Henderson\n",
       "243       , Boulder City\n",
       "244       , Boulder City\n",
       "245       , Boulder City\n",
       "246               , Jean\n",
       "247          , Las Vegas\n",
       "248          , Las Vegas\n",
       "249          , Las Vegas\n",
       "250          , Las Vegas\n",
       "251          , Las Vegas\n",
       "252          , Las Vegas\n",
       "Name: Hotelcity, dtype: object"
      ]
     },
     "execution_count": 12,
     "metadata": {},
     "output_type": "execute_result"
    }
   ],
   "source": [
    "#before\n",
    "data.Hotelcity"
   ]
  },
  {
   "cell_type": "code",
   "execution_count": 13,
   "metadata": {
    "collapsed": false
   },
   "outputs": [
    {
     "data": {
      "text/plain": [
       "0                  3708 Las Vegas Blvd S\n",
       "1                   4500 W Tropicana Ave\n",
       "2                  3595 Las Vegas Blvd S\n",
       "3              3575 Las Vegas Blvd South\n",
       "4                     4000 W Flamingo Rd\n",
       "5                  3555 Las Vegas Blvd S\n",
       "6                  3645 Las Vegas Blvd S\n",
       "7         3570 Las Vegas Boulevard South\n",
       "8         3570 Las Vegas Boulevard South\n",
       "9         3570 Las Vegas Boulevard South\n",
       "10     3535 Las Vegas Blvd South Suite 1\n",
       "11                 3655 Las Vegas Blvd S\n",
       "12                 3600 Las Vegas Blvd S\n",
       "13                 3475 Las Vegas Blvd S\n",
       "14                 3667 Las Vegas Blvd S\n",
       "15                 3700 S Las Vegas Blvd\n",
       "16        3700 Las Vegas Boulevard South\n",
       "17                 3700 Las Vegas Blvd S\n",
       "18                 3708 Las Vegas Blvd S\n",
       "19                     160 E Flamingo Rd\n",
       "20                 3411 Las Vegas Blvd S\n",
       "21                 2600A West Harmon Ave\n",
       "22               2600 West Harmon Avenue\n",
       "23               2600 West Harmon Avenue\n",
       "24                    75 E Harmon Avenue\n",
       "25                    80 E Harmon Avenue\n",
       "26                 3735 Las Vegas Blvd S\n",
       "27                 3355 Las Vegas Blvd S\n",
       "28                      105 E Harmon Ave\n",
       "29                 3400 Las Vegas Blvd S\n",
       "                     ...                \n",
       "223                    2852 E Craig Road\n",
       "224                    2910 E Craig Road\n",
       "225              11011 W Charleston Blvd\n",
       "226                     4540 Donovan Way\n",
       "227                   1553 N Boulder Hwy\n",
       "228                   4375 E. Craig Road\n",
       "229                     4949 N Rancho Dr\n",
       "230                   4035 N Nellis Blvd\n",
       "231               12300 Las Vegas Blvd S\n",
       "232                   4288 N Nellis Blvd\n",
       "233              777 W Lake Mead Parkway\n",
       "234                      5011 E Craig Rd\n",
       "235                    5330 E Craig Road\n",
       "236                4435 Las Vegas Blvd N\n",
       "237                 7300 Aliante Parkway\n",
       "238             1610 Lake Las Vegas Pkwy\n",
       "239                   101 Montelago Blvd\n",
       "240                    910 S Boulder Hwy\n",
       "241            16395 Bonnie Springs Road\n",
       "242           2800 South Boulder Highway\n",
       "243                         110 Ville Dr\n",
       "244                      1305 Arizona St\n",
       "245                        US Highway 93\n",
       "246                        1 Main Street\n",
       "247                3720 Las Vegas Blvd S\n",
       "248              99 Convention Center Dr\n",
       "249                  5201 Dean Martin Dr\n",
       "250                    4770 Topaz Street\n",
       "251                8225 Las Vegas Blvd S\n",
       "252                    2570 W Harmon Ave\n",
       "Name: Hoteladdress, dtype: object"
      ]
     },
     "execution_count": 13,
     "metadata": {},
     "output_type": "execute_result"
    }
   ],
   "source": [
    "#before\n",
    "data.Hoteladdress"
   ]
  },
  {
   "cell_type": "code",
   "execution_count": 14,
   "metadata": {
    "collapsed": false
   },
   "outputs": [],
   "source": [
    "# Clean up location data to ensure consistency\n",
    "data['Hotelcity'] = data['Hotelcity'].str.replace('North','')\n",
    "data['Hotelcity'] = data['Hotelcity'].str.replace('Henderson','Las Vegas')\n",
    "data['Hotelcity'] = data['Hotelcity'].str.replace('Boulder City','Las Vegas')\n",
    "data['Hotelcity'] = data['Hotelcity'].str.replace('Boulder City','Las Vegas')\n",
    "data['Hotelcity'] = data['Hotelcity'].str.replace('Jean','Las Vegas')\n",
    "data['Hoteladdress'] = data['Hoteladdress'].str.replace('Boulevard','Blvd')\n",
    "data['Hoteladdress'] = data['Hoteladdress'].str.replace('South','S')\n",
    "data['Hoteladdress'] = data['Hoteladdress'].str.replace('.','')\n",
    "\n",
    "\n",
    "data2['Hotelcity'] = data2['Hotelcity'].str.replace('North','')\n",
    "data2['Hotelcity'] = data2['Hotelcity'].str.replace('Henderson','Las Vegas')\n",
    "data2['Hotelcity'] = data2['Hotelcity'].str.replace('Boulder City','Las Vegas')\n",
    "data2['Hotelcity'] = data2['Hotelcity'].str.replace('Jean','Las Vegas')\n",
    "data2['Hoteladdress'] = data2['Hoteladdress'].str.replace('Boulevard','Blvd')\n",
    "data2['Hoteladdress'] = data2['Hoteladdress'].str.replace('South','S')\n",
    "data2['Hoteladdress'] = data2['Hoteladdress'].str.replace('.','')"
   ]
  },
  {
   "cell_type": "code",
   "execution_count": 15,
   "metadata": {
    "collapsed": false
   },
   "outputs": [
    {
     "data": {
      "text/plain": [
       "0       , Las Vegas\n",
       "1       , Las Vegas\n",
       "2       , Las Vegas\n",
       "3       , Las Vegas\n",
       "4       , Las Vegas\n",
       "5       , Las Vegas\n",
       "6       , Las Vegas\n",
       "7       , Las Vegas\n",
       "8       , Las Vegas\n",
       "9       , Las Vegas\n",
       "10      , Las Vegas\n",
       "11      , Las Vegas\n",
       "12      , Las Vegas\n",
       "13      , Las Vegas\n",
       "14      , Las Vegas\n",
       "15      , Las Vegas\n",
       "16      , Las Vegas\n",
       "17      , Las Vegas\n",
       "18      , Las Vegas\n",
       "19      , Las Vegas\n",
       "20      , Las Vegas\n",
       "21      , Las Vegas\n",
       "22      , Las Vegas\n",
       "23      , Las Vegas\n",
       "24      , Las Vegas\n",
       "25      , Las Vegas\n",
       "26      , Las Vegas\n",
       "27      , Las Vegas\n",
       "28      , Las Vegas\n",
       "29      , Las Vegas\n",
       "           ...     \n",
       "223    ,  Las Vegas\n",
       "224    ,  Las Vegas\n",
       "225     , Las Vegas\n",
       "226    ,  Las Vegas\n",
       "227     , Las Vegas\n",
       "228     , Las Vegas\n",
       "229     , Las Vegas\n",
       "230     , Las Vegas\n",
       "231     , Las Vegas\n",
       "232     , Las Vegas\n",
       "233     , Las Vegas\n",
       "234     , Las Vegas\n",
       "235     , Las Vegas\n",
       "236     , Las Vegas\n",
       "237    ,  Las Vegas\n",
       "238     , Las Vegas\n",
       "239     , Las Vegas\n",
       "240     , Las Vegas\n",
       "241     , Las Vegas\n",
       "242     , Las Vegas\n",
       "243     , Las Vegas\n",
       "244     , Las Vegas\n",
       "245     , Las Vegas\n",
       "246     , Las Vegas\n",
       "247     , Las Vegas\n",
       "248     , Las Vegas\n",
       "249     , Las Vegas\n",
       "250     , Las Vegas\n",
       "251     , Las Vegas\n",
       "252     , Las Vegas\n",
       "Name: Hotelcity, dtype: object"
      ]
     },
     "execution_count": 15,
     "metadata": {},
     "output_type": "execute_result"
    }
   ],
   "source": [
    "#after\n",
    "#No difficulties\n",
    "data.Hotelcity"
   ]
  },
  {
   "cell_type": "code",
   "execution_count": 16,
   "metadata": {
    "collapsed": false
   },
   "outputs": [
    {
     "data": {
      "text/plain": [
       "0              3708 Las Vegas Blvd S\n",
       "1               4500 W Tropicana Ave\n",
       "2              3595 Las Vegas Blvd S\n",
       "3              3575 Las Vegas Blvd S\n",
       "4                 4000 W Flamingo Rd\n",
       "5              3555 Las Vegas Blvd S\n",
       "6              3645 Las Vegas Blvd S\n",
       "7              3570 Las Vegas Blvd S\n",
       "8              3570 Las Vegas Blvd S\n",
       "9              3570 Las Vegas Blvd S\n",
       "10     3535 Las Vegas Blvd S Suite 1\n",
       "11             3655 Las Vegas Blvd S\n",
       "12             3600 Las Vegas Blvd S\n",
       "13             3475 Las Vegas Blvd S\n",
       "14             3667 Las Vegas Blvd S\n",
       "15             3700 S Las Vegas Blvd\n",
       "16             3700 Las Vegas Blvd S\n",
       "17             3700 Las Vegas Blvd S\n",
       "18             3708 Las Vegas Blvd S\n",
       "19                 160 E Flamingo Rd\n",
       "20             3411 Las Vegas Blvd S\n",
       "21             2600A West Harmon Ave\n",
       "22           2600 West Harmon Avenue\n",
       "23           2600 West Harmon Avenue\n",
       "24                75 E Harmon Avenue\n",
       "25                80 E Harmon Avenue\n",
       "26             3735 Las Vegas Blvd S\n",
       "27             3355 Las Vegas Blvd S\n",
       "28                  105 E Harmon Ave\n",
       "29             3400 Las Vegas Blvd S\n",
       "                   ...              \n",
       "223                2852 E Craig Road\n",
       "224                2910 E Craig Road\n",
       "225          11011 W Charleston Blvd\n",
       "226                 4540 Donovan Way\n",
       "227               1553 N Boulder Hwy\n",
       "228                4375 E Craig Road\n",
       "229                 4949 N Rancho Dr\n",
       "230               4035 N Nellis Blvd\n",
       "231           12300 Las Vegas Blvd S\n",
       "232               4288 N Nellis Blvd\n",
       "233          777 W Lake Mead Parkway\n",
       "234                  5011 E Craig Rd\n",
       "235                5330 E Craig Road\n",
       "236            4435 Las Vegas Blvd N\n",
       "237             7300 Aliante Parkway\n",
       "238         1610 Lake Las Vegas Pkwy\n",
       "239               101 Montelago Blvd\n",
       "240                910 S Boulder Hwy\n",
       "241        16395 Bonnie Springs Road\n",
       "242           2800 S Boulder Highway\n",
       "243                     110 Ville Dr\n",
       "244                  1305 Arizona St\n",
       "245                    US Highway 93\n",
       "246                    1 Main Street\n",
       "247            3720 Las Vegas Blvd S\n",
       "248          99 Convention Center Dr\n",
       "249              5201 Dean Martin Dr\n",
       "250                4770 Topaz Street\n",
       "251            8225 Las Vegas Blvd S\n",
       "252                2570 W Harmon Ave\n",
       "Name: Hoteladdress, dtype: object"
      ]
     },
     "execution_count": 16,
     "metadata": {},
     "output_type": "execute_result"
    }
   ],
   "source": [
    "#after\n",
    "#No difficulties\n",
    "data.Hoteladdress"
   ]
  },
  {
   "cell_type": "code",
   "execution_count": null,
   "metadata": {
    "collapsed": true
   },
   "outputs": [],
   "source": []
  },
  {
   "cell_type": "code",
   "execution_count": null,
   "metadata": {
    "collapsed": true
   },
   "outputs": [],
   "source": []
  }
 ],
 "metadata": {
  "kernelspec": {
   "display_name": "Python [default]",
   "language": "python",
   "name": "python3"
  },
  "language_info": {
   "codemirror_mode": {
    "name": "ipython",
    "version": 3
   },
   "file_extension": ".py",
   "mimetype": "text/x-python",
   "name": "python",
   "nbconvert_exporter": "python",
   "pygments_lexer": "ipython3",
   "version": "3.5.2"
  }
 },
 "nbformat": 4,
 "nbformat_minor": 0
}
